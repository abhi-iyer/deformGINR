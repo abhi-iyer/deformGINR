{
 "cells": [
  {
   "cell_type": "code",
   "execution_count": 5,
   "metadata": {},
   "outputs": [
    {
     "name": "stdout",
     "output_type": "stream",
     "text": [
      "The autoreload extension is already loaded. To reload it, use:\n",
      "  %reload_ext autoreload\n"
     ]
    }
   ],
   "source": [
    "%load_ext autoreload\n",
    "%autoreload 2\n",
    "\n",
    "from imports import *\n",
    "from utils import *\n",
    "from models import *\n",
    "from data import *\n",
    "from ginr_experiment import *\n",
    "from ginr_configs import CONFIGS"
   ]
  },
  {
   "cell_type": "code",
   "execution_count": null,
   "metadata": {},
   "outputs": [],
   "source": []
  },
  {
   "cell_type": "code",
   "execution_count": null,
   "metadata": {},
   "outputs": [],
   "source": [
    "labels = np.load('./bunny_data/test/bunny_deformed_undersampled0_labels.npy')\n",
    "labels = labels.argmax(axis=1)\n",
    "labels[labels != 5]\n",
    "\n",
    "pred = np.load('./ginr_checkpoints/bunny_3_fourier/predictions/bunny_deformed_undersampled0.npy')\n",
    "\n",
    "nontrivial = pred[labels != 5] == labels[labels != 5]\n",
    "nontrivial.sum()/len(nontrivial)"
   ]
  },
  {
   "cell_type": "code",
   "execution_count": null,
   "metadata": {},
   "outputs": [],
   "source": [
    "labels = np.load('./bunny_data/test/bunny_labels.npy')\n",
    "labels = labels.argmax(axis=1)\n",
    "labels[labels != 5]\n",
    "\n",
    "pred = np.load('./ginr_checkpoints/bunny_3_fourier/predictions/bunny_deformed1.npy')\n",
    "\n",
    "nontrivial = pred[labels != 5] == labels[labels != 5]\n",
    "nontrivial.sum()/len(nontrivial)"
   ]
  },
  {
   "cell_type": "code",
   "execution_count": null,
   "metadata": {},
   "outputs": [],
   "source": []
  },
  {
   "cell_type": "code",
   "execution_count": null,
   "metadata": {},
   "outputs": [],
   "source": [
    "bunny_3_fourier = GINR_Experiment(\"bunny_3_fourier\", CONFIGS[\"bunny_3_fourier\"])\n",
    "bunny_3_fourier.train(num_epochs=5000, show_plot=True)"
   ]
  },
  {
   "cell_type": "code",
   "execution_count": null,
   "metadata": {},
   "outputs": [],
   "source": [
    "bunny_5_fourier = GINR_Experiment(\"bunny_5_fourier\", CONFIGS[\"bunny_5_fourier\"])\n",
    "bunny_5_fourier.train(num_epochs=5000, show_plot=True)"
   ]
  },
  {
   "cell_type": "code",
   "execution_count": null,
   "metadata": {},
   "outputs": [],
   "source": [
    "bunny_10_fourier = GINR_Experiment(\"bunny_10_fourier\", CONFIGS[\"bunny_10_fourier\"])\n",
    "bunny_10_fourier.train(num_epochs=5000, show_plot=True)"
   ]
  },
  {
   "cell_type": "code",
   "execution_count": null,
   "metadata": {},
   "outputs": [],
   "source": []
  }
 ],
 "metadata": {
  "kernelspec": {
   "display_name": "ginr",
   "language": "python",
   "name": "python3"
  },
  "language_info": {
   "codemirror_mode": {
    "name": "ipython",
    "version": 3
   },
   "file_extension": ".py",
   "mimetype": "text/x-python",
   "name": "python",
   "nbconvert_exporter": "python",
   "pygments_lexer": "ipython3",
   "version": "3.9.15"
  },
  "orig_nbformat": 4,
  "vscode": {
   "interpreter": {
    "hash": "b3c2da8d5765b3404357eb9d275f83d59d95b3f7675432adf388d43dc3d5022e"
   }
  }
 },
 "nbformat": 4,
 "nbformat_minor": 2
}
