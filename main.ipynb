{
 "cells": [
  {
   "cell_type": "code",
   "execution_count": 1,
   "metadata": {},
   "outputs": [],
   "source": [
    "%load_ext autoreload\n",
    "%autoreload 2\n",
    "\n",
    "from imports import *\n",
    "from utils import *\n",
    "from models import *\n",
    "from data import *\n",
    "from ginr_experiment import *\n",
    "from ginr_configs import CONFIGS"
   ]
  },
  {
   "cell_type": "code",
   "execution_count": 6,
   "metadata": {},
   "outputs": [],
   "source": [
    "bunny_3_fourier = GINR_Experiment(\"bunny_3_fourier\", CONFIGS[\"bunny_3_fourier\"])\n",
    "bunny_3_fourier.plot()"
   ]
  },
  {
   "cell_type": "code",
   "execution_count": null,
   "metadata": {},
   "outputs": [],
   "source": [
    "bunny_5_fourier = GINR_Experiment(\"bunny_5_fourier\", CONFIGS[\"bunny_5_fourier\"])\n",
    "bunny_5_fourier.plot()"
   ]
  },
  {
   "cell_type": "code",
   "execution_count": null,
   "metadata": {},
   "outputs": [],
   "source": [
    "bunny_10_fourier = GINR_Experiment(\"bunny_10_fourier\", CONFIGS[\"bunny_10_fourier\"])\n",
    "bunny_10_fourier.plot()"
   ]
  },
  {
   "cell_type": "code",
   "execution_count": null,
   "metadata": {},
   "outputs": [],
   "source": [
    "bunny_50_fourier = GINR_Experiment(\"bunny_50_fourier\", CONFIGS[\"bunny_50_fourier\"])\n",
    "bunny_50_fourier.plot()"
   ]
  },
  {
   "cell_type": "code",
   "execution_count": null,
   "metadata": {},
   "outputs": [],
   "source": [
    "bunny_100_fourier = GINR_Experiment(\"bunny_100_fourier\", CONFIGS[\"bunny_100_fourier\"])\n",
    "bunny_100_fourier.plot()"
   ]
  }
 ],
 "metadata": {
  "kernelspec": {
   "display_name": "ginr",
   "language": "python",
   "name": "python3"
  },
  "language_info": {
   "codemirror_mode": {
    "name": "ipython",
    "version": 3
   },
   "file_extension": ".py",
   "mimetype": "text/x-python",
   "name": "python",
   "nbconvert_exporter": "python",
   "pygments_lexer": "ipython3",
   "version": "3.9.15"
  },
  "orig_nbformat": 4,
  "vscode": {
   "interpreter": {
    "hash": "b3c2da8d5765b3404357eb9d275f83d59d95b3f7675432adf388d43dc3d5022e"
   }
  }
 },
 "nbformat": 4,
 "nbformat_minor": 2
}
